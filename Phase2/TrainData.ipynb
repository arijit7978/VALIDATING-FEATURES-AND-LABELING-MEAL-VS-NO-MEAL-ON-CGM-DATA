{
  "nbformat": 4,
  "nbformat_minor": 0,
  "metadata": {
    "colab": {
      "name": "DM_Sec_Assignment.ipynb",
      "provenance": [],
      "collapsed_sections": []
    },
    "kernelspec": {
      "name": "python3",
      "display_name": "Python 3"
    }
  },
  "cells": [
    {
      "cell_type": "code",
      "metadata": {
        "id": "wbljZi-tvC5d",
        "colab_type": "code",
        "outputId": "166ba4c6-7332-4854-8708-d85d6bbc56bb",
        "colab": {
          "base_uri": "https://localhost:8080/",
          "height": 211
        }
      },
      "source": [
        "import pandas as pd\n",
        "import numpy as np\n",
        "\n",
        "df_No_meal_Glucose1 =  pd.read_csv('./Nomeal1.csv',header=None) \n",
        "df_No_meal_Glucose2 = pd.read_csv('./Nomeal2.csv',header=None)\n",
        "df_No_meal_Glucose3 =  pd.read_csv('./Nomeal3.csv',header=None)\n",
        "df_No_meal_Glucose4 = pd.read_csv('./Nomeal4.csv',header=None)\n",
        "df_No_meal_Glucose5 =  pd.read_csv('./Nomeal5.csv',header=None)\n",
        "df_Meal1 = pd.read_csv('./mealData1.csv',sep='delimeter',header=None)\n",
        "df_Meal2 =  pd.read_csv('./mealData2.csv',sep='delimeter',header=None)\n",
        "df_Meal3 = pd.read_csv('./mealData3.csv',sep='delimeter',header=None)\n",
        "df_Meal4 =  pd.read_csv('./mealData4.csv',sep='delimeter',header=None)\n",
        "df_Meal5 = pd.read_csv('./mealData5.csv',sep='delimeter',header=None)\n",
        "\n",
        "df_features = pd.DataFrame()\n",
        "No_Meal_Features_Matrix = pd.DataFrame()\n",
        "df_Main_Features_final = pd.DataFrame()\n"
      ],
      "execution_count": 0,
      "outputs": [
        {
          "output_type": "stream",
          "text": [
            "/usr/local/lib/python3.6/dist-packages/ipykernel_launcher.py:9: ParserWarning: Falling back to the 'python' engine because the 'c' engine does not support regex separators (separators > 1 char and different from '\\s+' are interpreted as regex); you can avoid this warning by specifying engine='python'.\n",
            "  if __name__ == '__main__':\n",
            "/usr/local/lib/python3.6/dist-packages/ipykernel_launcher.py:10: ParserWarning: Falling back to the 'python' engine because the 'c' engine does not support regex separators (separators > 1 char and different from '\\s+' are interpreted as regex); you can avoid this warning by specifying engine='python'.\n",
            "  # Remove the CWD from sys.path while we load stuff.\n",
            "/usr/local/lib/python3.6/dist-packages/ipykernel_launcher.py:11: ParserWarning: Falling back to the 'python' engine because the 'c' engine does not support regex separators (separators > 1 char and different from '\\s+' are interpreted as regex); you can avoid this warning by specifying engine='python'.\n",
            "  # This is added back by InteractiveShellApp.init_path()\n",
            "/usr/local/lib/python3.6/dist-packages/ipykernel_launcher.py:12: ParserWarning: Falling back to the 'python' engine because the 'c' engine does not support regex separators (separators > 1 char and different from '\\s+' are interpreted as regex); you can avoid this warning by specifying engine='python'.\n",
            "  if sys.path[0] == '':\n",
            "/usr/local/lib/python3.6/dist-packages/ipykernel_launcher.py:13: ParserWarning: Falling back to the 'python' engine because the 'c' engine does not support regex separators (separators > 1 char and different from '\\s+' are interpreted as regex); you can avoid this warning by specifying engine='python'.\n",
            "  del sys.path[0]\n"
          ],
          "name": "stderr"
        }
      ]
    },
    {
      "cell_type": "code",
      "metadata": {
        "id": "X1WH3vsf4e5s",
        "colab_type": "code",
        "colab": {}
      },
      "source": [
        "No_Meal_Data = [df_No_meal_Glucose1, df_No_meal_Glucose2, df_No_meal_Glucose3,df_No_meal_Glucose4,df_No_meal_Glucose5]\n",
        "Df_No_Meal_Data  = pd.concat(No_Meal_Data)"
      ],
      "execution_count": 0,
      "outputs": []
    },
    {
      "cell_type": "code",
      "metadata": {
        "id": "IyPaEmq-4l4n",
        "colab_type": "code",
        "colab": {}
      },
      "source": [
        "Df_No_Meal_Data.fillna(value=0,inplace=True)"
      ],
      "execution_count": 0,
      "outputs": []
    },
    {
      "cell_type": "code",
      "metadata": {
        "id": "k4R2UKMmxKWT",
        "colab_type": "code",
        "colab": {}
      },
      "source": [
        "Df_Meal_Data = pd.read_csv('./main_data.csv',header=None)"
      ],
      "execution_count": 0,
      "outputs": []
    },
    {
      "cell_type": "code",
      "metadata": {
        "id": "FizGmYtX1lWF",
        "colab_type": "code",
        "colab": {}
      },
      "source": [
        "Df_Meal_Data.fillna(0,inplace=True)"
      ],
      "execution_count": 0,
      "outputs": []
    },
    {
      "cell_type": "code",
      "metadata": {
        "id": "Fq6pycrkw3BB",
        "colab_type": "code",
        "colab": {}
      },
      "source": [
        ""
      ],
      "execution_count": 0,
      "outputs": []
    },
    {
      "cell_type": "code",
      "metadata": {
        "id": "EO9MkGcnzqwl",
        "colab_type": "code",
        "colab": {}
      },
      "source": [
        "import numpy as np\n",
        "import warnings\n",
        "\n",
        "for i in range(255):\n",
        "  time_Stamps= [i for i in range(len(Df_Meal_Data.iloc[i]))]\n",
        "  times = np.array(time_Stamps)\n",
        "  coefs = np.polyfit(times,Df_Meal_Data.iloc[i], 4)\n",
        "  coefs1 = np.polyfit(times,Df_Meal_Data.iloc[i], 2)\n",
        "  coefs2 = np.polyfit(times,Df_Meal_Data.iloc[i], 3)\n",
        "  coefs3 = np.polyfit(times,Df_Meal_Data.iloc[i], 1)\n",
        "  \n",
        "  df_features.at[i,'polyFit_4Degree_First_Coef']=coefs[0]\n",
        "  df_features.at[i,'polyFit_4Degree_Sec_Coef']=coefs[1]\n",
        "  df_features.at[i,'polyFit_4Degree_Third_Coef']=coefs[2]\n",
        "  df_features.at[i,'polyFit_4Degree_Fourth_Coef']=coefs[3]\n",
        "  df_features.at[i,'polyFit_4Degree_Five_Coef']=coefs[4]\n",
        "  df_features.at[i,'polyFit_2Degree_First_Coef']=coefs1[0]\n",
        "  df_features.at[i,'polyFit_2Degree_Sec_Coef']=coefs1[1]\n",
        "  df_features.at[i,'polyFit_2Degree_Third_Coef']=coefs1[2]\n",
        "  df_features.at[i,'polyFit_3Degree_First_Coef']=coefs2[0]\n",
        "  df_features.at[i,'polyFit_3Degree_Sec_Coef']=coefs2[1]\n",
        "  df_features.at[i,'polyFit_3Degree_Third_Coef']=coefs2[2]\n",
        "  df_features.at[i,'polyFit_3Degree_Fourth_Coef']=coefs2[3]\n",
        "  df_features.at[i,'polyFit_1Degree_First_Coef']=coefs3[0]\n",
        "  df_features.at[i,'polyFit_1Degree_Sec_Coef']=coefs3[1]\n",
        "\n",
        "  #print(coefs)"
      ],
      "execution_count": 0,
      "outputs": []
    },
    {
      "cell_type": "code",
      "metadata": {
        "id": "ceJV-Usi0vu8",
        "colab_type": "code",
        "colab": {}
      },
      "source": [
        "%matplotlib inline\n",
        "import matplotlib.pyplot as plt\n",
        "import numpy as np\n",
        "import pandas  as pd\n",
        "\n",
        "for i in range(255):\n",
        "  s = pd.Series(Df_Meal_Data.iloc[i]).autocorr(lag=2)\n",
        "  q = pd.Series(Df_Meal_Data.iloc[i]).autocorr(lag=3)\n",
        "  p = pd.Series(Df_Meal_Data.iloc[i]).autocorr(lag=5)\n",
        "  s1 = pd.Series(Df_Meal_Data.iloc[i]).autocorr(lag=4)\n",
        "  q1 = pd.Series(Df_Meal_Data.iloc[i]).autocorr(lag=6)\n",
        "  p1 = pd.Series(Df_Meal_Data.iloc[i]).autocorr(lag=8)\n",
        "  df_features.at[i,'Correlation_With_Lag_2']=s\n",
        "  df_features.at[i,'Correlation_With_Lag_3']=q\n",
        "  df_features.at[i,'Correlation_With_Lag_5']=p\n",
        "  df_features.at[i,'Correlation_With_Lag_4']=s1\n",
        "  df_features.at[i,'Correlation_With_Lag_6']=q1\n",
        "  df_features.at[i,'Correlation_With_Lag_8']=p1"
      ],
      "execution_count": 0,
      "outputs": []
    },
    {
      "cell_type": "code",
      "metadata": {
        "id": "iVFOdtr2FcPd",
        "colab_type": "code",
        "colab": {}
      },
      "source": [
        "import numpy as np\n",
        "from matplotlib import pyplot as plt\n",
        "\n",
        "for i in range(255):\n",
        "  ps = np.abs(np.fft.fft(Df_Meal_Data.iloc[i]))\n",
        "  ps.sort()\n",
        "  values = ps[:-8]\n",
        "  df_features.at[i,'FFT_First_Peak'] = values[7]\n",
        "  df_features.at[i,'FFT_Sec_Peak'] = values[6]\n",
        "  df_features.at[i,'FFT_Third_Peak'] = values[5]\n",
        "  df_features.at[i,'FFT_Fourth_Peak'] = values[4]\n",
        "  df_features.at[i,'FFT_Fifth_Peak'] = values[3]\n",
        "  df_features.at[i,'FFT_Sixth_Peak'] = values[2]\n",
        "  df_features.at[i,'FFT_seventh_Peak'] = values[1]\n",
        "  df_features.at[i,'FFT_eight_Peak'] = values[0]"
      ],
      "execution_count": 0,
      "outputs": []
    },
    {
      "cell_type": "code",
      "metadata": {
        "id": "2y_KzXkUw9Y3",
        "colab_type": "code",
        "colab": {}
      },
      "source": [
        "import numpy as np\n",
        "from matplotlib import pyplot as plt\n",
        "\n",
        "for i in range(255):\n",
        "  ps = np.abs(np.fft.fft(Df_Meal_Data.iloc[i]))**2\n",
        "  ps.sort()\n",
        "  values = ps[:-8]\n",
        "  df_features.at[i,'PST_First_Peak'] = values[7]\n",
        "  df_features.at[i,'PST_Sec_Peak'] = values[6]\n",
        "  df_features.at[i,'PST_Third_Peak'] = values[5]\n",
        "  df_features.at[i,'PST_Fourth_Peak'] = values[4]\n",
        "  df_features.at[i,'PST_Fifth_Peak'] = values[3]\n",
        "  df_features.at[i,'PST_Sixth_Peak'] = values[2]\n",
        "  df_features.at[i,'PST_seventh_Peak'] = values[1]\n",
        "  df_features.at[i,'PST_eight_Peak'] = values[0]"
      ],
      "execution_count": 0,
      "outputs": []
    },
    {
      "cell_type": "code",
      "metadata": {
        "id": "Ra_uw-ETo8yj",
        "colab_type": "code",
        "colab": {}
      },
      "source": [
        "Df_No_Meal_Data.fillna(value=0,inplace=True)"
      ],
      "execution_count": 0,
      "outputs": []
    },
    {
      "cell_type": "code",
      "metadata": {
        "id": "LSN_i2q8pDES",
        "colab_type": "code",
        "outputId": "1b02a216-3c09-4387-8050-6c75d986596a",
        "colab": {
          "base_uri": "https://localhost:8080/",
          "height": 52
        }
      },
      "source": [
        "No_Meal_Features_Matrix = pd.DataFrame()\n",
        "#Df_No_Meal_Data = pd.read_csv('No_meal_final.csv')\n",
        "import numpy as np\n",
        "import warnings\n",
        "\n",
        "print(Df_No_Meal_Data.shape)\n",
        "for i in range(255):\n",
        "  \n",
        "  time_Stamps= [j for j in range(len(Df_No_Meal_Data.iloc[i]))]\n",
        "  times = np.array(time_Stamps)\n",
        "  coefs = np.polyfit(times,Df_No_Meal_Data.iloc[i], 4)\n",
        "  coefs1 = np.polyfit(times,Df_No_Meal_Data.iloc[i], 2)\n",
        "  coefs2 = np.polyfit(times,Df_No_Meal_Data.iloc[i], 3)\n",
        "  coefs3 = np.polyfit(times,Df_No_Meal_Data.iloc[i], 1)\n",
        "  \n",
        "  No_Meal_Features_Matrix.at[i,'polyFit_4Degree_First_Coef']=coefs[0]\n",
        "  No_Meal_Features_Matrix.at[i,'polyFit_4Degree_Sec_Coef']=coefs[1]\n",
        "  No_Meal_Features_Matrix.at[i,'polyFit_4Degree_Third_Coef']=coefs[2]\n",
        "  No_Meal_Features_Matrix.at[i,'polyFit_4Degree_Fourth_Coef']=coefs[3]\n",
        "  No_Meal_Features_Matrix.at[i,'polyFit_4Degree_Five_Coef']=coefs[4]\n",
        "  No_Meal_Features_Matrix.at[i,'polyFit_2Degree_First_Coef']=coefs1[0]\n",
        "  No_Meal_Features_Matrix.at[i,'polyFit_2Degree_Sec_Coef']=coefs1[1]\n",
        "  No_Meal_Features_Matrix.at[i,'polyFit_2Degree_Third_Coef']=coefs1[2]\n",
        "  No_Meal_Features_Matrix.at[i,'polyFit_3Degree_First_Coef']=coefs2[0]\n",
        "  No_Meal_Features_Matrix.at[i,'polyFit_3Degree_Sec_Coef']=coefs2[1]\n",
        "  No_Meal_Features_Matrix.at[i,'polyFit_3Degree_Third_Coef']=coefs2[2]\n",
        "  No_Meal_Features_Matrix.at[i,'polyFit_3Degree_Fourth_Coef']=coefs2[3]\n",
        "  No_Meal_Features_Matrix.at[i,'polyFit_1Degree_First_Coef']=coefs3[0]\n",
        "  No_Meal_Features_Matrix.at[i,'polyFit_1Degree_Sec_Coef']=coefs3[1]\n",
        "\n",
        "print(No_Meal_Features_Matrix.shape)\n",
        "\n",
        "\n",
        "\n",
        "\n"
      ],
      "execution_count": 0,
      "outputs": [
        {
          "output_type": "stream",
          "text": [
            "(255, 30)\n",
            "(255, 14)\n"
          ],
          "name": "stdout"
        }
      ]
    },
    {
      "cell_type": "code",
      "metadata": {
        "id": "Kmq1KdRoFlqS",
        "colab_type": "code",
        "colab": {}
      },
      "source": [
        "import numpy as np\n",
        "from matplotlib import pyplot as plt\n",
        "\n",
        "for i in range(255):\n",
        "  ps = np.abs(np.fft.fft(Df_No_Meal_Data.iloc[i]))\n",
        "  ps.sort()\n",
        "  values = ps[:-8]\n",
        "  No_Meal_Features_Matrix.at[i,'FFT_First_Peak'] = values[7]\n",
        "  No_Meal_Features_Matrix.at[i,'FFT_Sec_Peak'] = values[6]\n",
        "  No_Meal_Features_Matrix.at[i,'FFT_Third_Peak'] = values[5]\n",
        "  No_Meal_Features_Matrix.at[i,'FFT_Fourth_Peak'] = values[4]\n",
        "  No_Meal_Features_Matrix.at[i,'FFT_Fifth_Peak'] = values[3]\n",
        "  No_Meal_Features_Matrix.at[i,'FFT_Sixth_Peak'] = values[2]\n",
        "  No_Meal_Features_Matrix.at[i,'FFT_seventh_Peak'] = values[1]\n",
        "  No_Meal_Features_Matrix.at[i,'FFT_eight_Peak'] = values[0]"
      ],
      "execution_count": 0,
      "outputs": []
    },
    {
      "cell_type": "code",
      "metadata": {
        "id": "-IwVY8JJxY5Q",
        "colab_type": "code",
        "colab": {}
      },
      "source": [
        "for i in range(255):\n",
        "  ps = np.abs(np.fft.fft(Df_No_Meal_Data.iloc[i]))**2\n",
        "  ps.sort()\n",
        "  values = ps[:-8]\n",
        "  No_Meal_Features_Matrix.at[i,'PST_First_Peak'] = values[7]\n",
        "  No_Meal_Features_Matrix.at[i,'PST_Sec_Peak'] = values[6]\n",
        "  No_Meal_Features_Matrix.at[i,'PST_Third_Peak'] = values[5]\n",
        "  No_Meal_Features_Matrix.at[i,'PST_Fourth_Peak'] = values[4]\n",
        "  No_Meal_Features_Matrix.at[i,'PST_Fifth_Peak'] = values[3]\n",
        "  No_Meal_Features_Matrix.at[i,'PST_Sixth_Peak'] = values[2]\n",
        "  No_Meal_Features_Matrix.at[i,'PST_seventh_Peak'] = values[1]\n",
        "  No_Meal_Features_Matrix.at[i,'PST_eight_Peak'] = values[0]"
      ],
      "execution_count": 0,
      "outputs": []
    },
    {
      "cell_type": "code",
      "metadata": {
        "id": "xbJSrMN_rp_F",
        "colab_type": "code",
        "colab": {}
      },
      "source": [
        "%matplotlib inline\n",
        "import matplotlib.pyplot as plt\n",
        "import numpy as np\n",
        "import pandas  as pd\n",
        "\n",
        "for i in range(255):\n",
        "  s = pd.Series(Df_No_Meal_Data.iloc[i]).autocorr(lag=2)\n",
        "  q = pd.Series(Df_No_Meal_Data.iloc[i]).autocorr(lag=3)\n",
        "  p = pd.Series(Df_No_Meal_Data.iloc[i]).autocorr(lag=5)\n",
        "  s1 = pd.Series(Df_No_Meal_Data.iloc[i]).autocorr(lag=4)\n",
        "  q1 = pd.Series(Df_No_Meal_Data.iloc[i]).autocorr(lag=6)\n",
        "  p1 = pd.Series(Df_No_Meal_Data.iloc[i]).autocorr(lag=8)\n",
        "  No_Meal_Features_Matrix.at[i,'Correlation_With_Lag_2']=s\n",
        "  No_Meal_Features_Matrix.at[i,'Correlation_With_Lag_3']=q\n",
        "  No_Meal_Features_Matrix.at[i,'Correlation_With_Lag_5']=p\n",
        "  No_Meal_Features_Matrix.at[i,'Correlation_With_Lag_4']=s1\n",
        "  No_Meal_Features_Matrix.at[i,'Correlation_With_Lag_6']=q1\n",
        "  No_Meal_Features_Matrix.at[i,'Correlation_With_Lag_8']=p1\n",
        "\n"
      ],
      "execution_count": 0,
      "outputs": []
    },
    {
      "cell_type": "code",
      "metadata": {
        "id": "0Tp1tu4WvOqD",
        "colab_type": "code",
        "colab": {}
      },
      "source": [
        "for i in range(255):\n",
        "  zero_crossings = np.where(np.diff(np.sign(Df_Meal_Data.iloc[i])))[0]\n",
        "  df_features.at[i,'number_of_zero_crossings']=len(zero_crossings)"
      ],
      "execution_count": 0,
      "outputs": []
    },
    {
      "cell_type": "code",
      "metadata": {
        "id": "P1dTl3kuv1Mb",
        "colab_type": "code",
        "colab": {}
      },
      "source": [
        "for i in range(255):\n",
        "  zero_crossings = np.where(np.diff(np.sign(Df_No_Meal_Data.iloc[i])))[0]\n",
        "  No_Meal_Features_Matrix.at[i,'number_of_zero_crossings']=len(zero_crossings)"
      ],
      "execution_count": 0,
      "outputs": []
    },
    {
      "cell_type": "code",
      "metadata": {
        "id": "-MfxCsRc7a2X",
        "colab_type": "code",
        "colab": {}
      },
      "source": [
        "df_features.fillna(value=0,inplace=True)\n",
        "No_Meal_Features_Matrix.fillna(value=0,inplace=True)"
      ],
      "execution_count": 0,
      "outputs": []
    },
    {
      "cell_type": "code",
      "metadata": {
        "id": "c6SRpBxl9MFr",
        "colab_type": "code",
        "colab": {}
      },
      "source": [
        "for i in range(255):\n",
        "  df_features.at[i,'label']=1\n",
        "for i in range(255):\n",
        "  No_Meal_Features_Matrix.at[i,'label']=0"
      ],
      "execution_count": 0,
      "outputs": []
    },
    {
      "cell_type": "code",
      "metadata": {
        "id": "ABjvFiGf7vGA",
        "colab_type": "code",
        "outputId": "a44152d2-3ddd-4798-ffb3-eec705b68849",
        "colab": {
          "base_uri": "https://localhost:8080/",
          "height": 176
        }
      },
      "source": [
        "df_Main_Features_final=pd.DataFrame()\n",
        "features =[df_features,No_Meal_Features_Matrix]\n",
        "df_Main_Features_final = pd.concat(features)"
      ],
      "execution_count": 0,
      "outputs": [
        {
          "output_type": "stream",
          "text": [
            "/usr/local/lib/python3.6/dist-packages/ipykernel_launcher.py:3: FutureWarning: Sorting because non-concatenation axis is not aligned. A future version\n",
            "of pandas will change to not sort by default.\n",
            "\n",
            "To accept the future behavior, pass 'sort=False'.\n",
            "\n",
            "To retain the current behavior and silence the warning, pass 'sort=True'.\n",
            "\n",
            "  This is separate from the ipykernel package so we can avoid doing imports until\n"
          ],
          "name": "stderr"
        }
      ]
    },
    {
      "cell_type": "code",
      "metadata": {
        "id": "Sre9nyRI-rlg",
        "colab_type": "code",
        "outputId": "8ef0ad42-276c-4da6-a254-9e49bb3ef70a",
        "colab": {
          "base_uri": "https://localhost:8080/",
          "height": 260
        }
      },
      "source": [
        "Y_features =df_Main_Features_final[['label']]\n",
        "print(Y_features)"
      ],
      "execution_count": 0,
      "outputs": [
        {
          "output_type": "stream",
          "text": [
            "     label\n",
            "0      1.0\n",
            "1      1.0\n",
            "2      1.0\n",
            "3      1.0\n",
            "4      1.0\n",
            "..     ...\n",
            "250    0.0\n",
            "251    0.0\n",
            "252    0.0\n",
            "253    0.0\n",
            "254    0.0\n",
            "\n",
            "[510 rows x 1 columns]\n"
          ],
          "name": "stdout"
        }
      ]
    },
    {
      "cell_type": "code",
      "metadata": {
        "id": "Nq1cNcE0ugV8",
        "colab_type": "code",
        "colab": {}
      },
      "source": [
        "X_features=pca_of_the_data"
      ],
      "execution_count": 0,
      "outputs": []
    },
    {
      "cell_type": "code",
      "metadata": {
        "id": "MtDLElMw-5k9",
        "colab_type": "code",
        "colab": {}
      },
      "source": [
        "from sklearn.metrics import confusion_matrix \n",
        "from sklearn.model_selection import train_test_split\n",
        "\n",
        "X_train, X_test, y_train, y_test = train_test_split(X_features,Y_features, test_size=0.3, random_state=42)"
      ],
      "execution_count": 0,
      "outputs": []
    },
    {
      "cell_type": "code",
      "metadata": {
        "id": "Q6Ith6aJ_kfK",
        "colab_type": "code",
        "outputId": "827f8024-14ac-4111-bf59-df45755298d3",
        "colab": {
          "base_uri": "https://localhost:8080/",
          "height": 228
        }
      },
      "source": [
        "from xgboost import XGBClassifier\n",
        "model = XGBClassifier()\n",
        "model.fit(X_features, Y_features)"
      ],
      "execution_count": 543,
      "outputs": [
        {
          "output_type": "stream",
          "text": [
            "/usr/local/lib/python3.6/dist-packages/sklearn/preprocessing/label.py:219: DataConversionWarning: A column-vector y was passed when a 1d array was expected. Please change the shape of y to (n_samples, ), for example using ravel().\n",
            "  y = column_or_1d(y, warn=True)\n",
            "/usr/local/lib/python3.6/dist-packages/sklearn/preprocessing/label.py:252: DataConversionWarning: A column-vector y was passed when a 1d array was expected. Please change the shape of y to (n_samples, ), for example using ravel().\n",
            "  y = column_or_1d(y, warn=True)\n"
          ],
          "name": "stderr"
        },
        {
          "output_type": "execute_result",
          "data": {
            "text/plain": [
              "XGBClassifier(base_score=0.5, booster='gbtree', colsample_bylevel=1,\n",
              "              colsample_bynode=1, colsample_bytree=1, gamma=0,\n",
              "              learning_rate=0.1, max_delta_step=0, max_depth=3,\n",
              "              min_child_weight=1, missing=None, n_estimators=100, n_jobs=1,\n",
              "              nthread=None, objective='binary:logistic', random_state=0,\n",
              "              reg_alpha=0, reg_lambda=1, scale_pos_weight=1, seed=None,\n",
              "              silent=None, subsample=1, verbosity=1)"
            ]
          },
          "metadata": {
            "tags": []
          },
          "execution_count": 543
        }
      ]
    },
    {
      "cell_type": "code",
      "metadata": {
        "id": "Uy2GGJ4D_oxI",
        "colab_type": "code",
        "outputId": "2c44bf6a-1000-4285-8145-240a843ab494",
        "colab": {
          "base_uri": "https://localhost:8080/",
          "height": 35
        }
      },
      "source": [
        "from sklearn.metrics import accuracy_score\n",
        "\n",
        "y_pred = model.predict(X_test)\n",
        "predictions = [round(value) for value in y_pred]\n",
        "accuracy = accuracy_score(y_test, predictions)\n",
        "print(\"Accuracy: %.2f%%\" % (accuracy * 100.0))"
      ],
      "execution_count": 544,
      "outputs": [
        {
          "output_type": "stream",
          "text": [
            "Accuracy: 85.62%\n"
          ],
          "name": "stdout"
        }
      ]
    },
    {
      "cell_type": "code",
      "metadata": {
        "id": "0FdlkSqwb5Tr",
        "colab_type": "code",
        "outputId": "03b565ac-d0d3-4845-e5cb-0b5812462a9f",
        "colab": {
          "base_uri": "https://localhost:8080/",
          "height": 89
        }
      },
      "source": [
        "from sklearn.naive_bayes import GaussianNB\n",
        "from sklearn.metrics import accuracy_score\n",
        "import pickle\n",
        "model = GaussianNB()\n",
        "model.fit(X_features, Y_features)\n",
        "y_pred = model.predict(X_test)\n",
        "predictions = [round(value) for value in y_pred]\n",
        "accuracy = accuracy_score(y_test, predictions)\n",
        "print(\"Accuracy: %.2f%%\" % (accuracy * 100.0))\n",
        "filename = '/NaivesBayes.sav'\n",
        "pickle.dump(model, open(filename, 'wb'))\n"
      ],
      "execution_count": 546,
      "outputs": [
        {
          "output_type": "stream",
          "text": [
            "Accuracy: 69.28%\n"
          ],
          "name": "stdout"
        },
        {
          "output_type": "stream",
          "text": [
            "/usr/local/lib/python3.6/dist-packages/sklearn/utils/validation.py:724: DataConversionWarning: A column-vector y was passed when a 1d array was expected. Please change the shape of y to (n_samples, ), for example using ravel().\n",
            "  y = column_or_1d(y, warn=True)\n"
          ],
          "name": "stderr"
        }
      ]
    },
    {
      "cell_type": "code",
      "metadata": {
        "id": "o7mOTK9uceSd",
        "colab_type": "code",
        "outputId": "42f68047-976e-4812-e32b-7c203a8279e9",
        "colab": {
          "base_uri": "https://localhost:8080/",
          "height": 89
        }
      },
      "source": [
        "from sklearn.neural_network import MLPClassifier\n",
        "from sklearn.metrics import accuracy_score\n",
        "import pickle\n",
        "model = MLPClassifier(hidden_layer_sizes=100, activation='logistic', max_iter=2000, alpha=0.00001,\n",
        "                      learning_rate='adaptive', solver='adam', tol=0.000002)\n",
        "model.fit(X_features, Y_features)\n",
        "y_pred = model.predict(X_test)\n",
        "predictions = [round(value) for value in y_pred]\n",
        "accuracy = accuracy_score(y_test, predictions)\n",
        "print(\"Accuracy: %.2f%%\" % (accuracy * 100.0))\n",
        "filename = '/MLPClassifier.sav'\n",
        "pickle.dump(model, open(filename, 'wb'))\n"
      ],
      "execution_count": 547,
      "outputs": [
        {
          "output_type": "stream",
          "text": [
            "/usr/local/lib/python3.6/dist-packages/sklearn/neural_network/multilayer_perceptron.py:921: DataConversionWarning: A column-vector y was passed when a 1d array was expected. Please change the shape of y to (n_samples, ), for example using ravel().\n",
            "  y = column_or_1d(y, warn=True)\n"
          ],
          "name": "stderr"
        },
        {
          "output_type": "stream",
          "text": [
            "Accuracy: 79.08%\n"
          ],
          "name": "stdout"
        }
      ]
    },
    {
      "cell_type": "code",
      "metadata": {
        "id": "2q6gowtlc00T",
        "colab_type": "code",
        "colab": {}
      },
      "source": [
        ""
      ],
      "execution_count": 0,
      "outputs": []
    },
    {
      "cell_type": "code",
      "metadata": {
        "id": "DG14zdWL_91K",
        "colab_type": "code",
        "outputId": "48f2f898-a312-49a3-82ef-46005ce311f9",
        "colab": {
          "base_uri": "https://localhost:8080/",
          "height": 211
        }
      },
      "source": [
        "import pickle\n",
        "from sklearn.svm import SVC \n",
        "svm_model_linear = SVC(kernel = 'linear', C = 1).fit(X_features, Y_features) \n",
        "filename = '/svm.pkl'\n",
        "pickle.dump(svm_model_linear, open(filename, 'wb'))\n",
        "svm_predictions = svm_model_linear.predict(X_test) \n",
        "print(svm_predictions)\n",
        "\n",
        "# model accuracy for X_test   \n",
        "accuracy = svm_model_linear.score(X_test, y_test)\n",
        "print(accuracy*100)"
      ],
      "execution_count": 548,
      "outputs": [
        {
          "output_type": "stream",
          "text": [
            "/usr/local/lib/python3.6/dist-packages/sklearn/utils/validation.py:724: DataConversionWarning: A column-vector y was passed when a 1d array was expected. Please change the shape of y to (n_samples, ), for example using ravel().\n",
            "  y = column_or_1d(y, warn=True)\n"
          ],
          "name": "stderr"
        },
        {
          "output_type": "stream",
          "text": [
            "[1. 0. 0. 0. 0. 0. 0. 1. 1. 0. 0. 0. 1. 1. 1. 1. 0. 0. 0. 1. 0. 1. 1. 0.\n",
            " 1. 0. 1. 1. 0. 1. 0. 1. 0. 1. 1. 1. 0. 1. 1. 1. 1. 0. 0. 1. 1. 1. 0. 0.\n",
            " 1. 0. 1. 1. 0. 0. 1. 0. 1. 1. 1. 1. 1. 0. 1. 1. 1. 1. 1. 1. 1. 1. 0. 1.\n",
            " 1. 1. 1. 1. 1. 1. 0. 1. 0. 1. 0. 1. 1. 1. 0. 1. 0. 1. 1. 0. 0. 0. 0. 1.\n",
            " 1. 0. 1. 0. 0. 0. 0. 1. 0. 1. 1. 0. 1. 0. 1. 1. 0. 1. 1. 0. 0. 1. 1. 1.\n",
            " 1. 1. 0. 0. 0. 1. 0. 1. 0. 1. 0. 1. 1. 0. 0. 1. 0. 0. 1. 1. 0. 0. 1. 0.\n",
            " 1. 1. 1. 1. 1. 0. 1. 0. 1.]\n",
            "76.47058823529412\n"
          ],
          "name": "stdout"
        }
      ]
    },
    {
      "cell_type": "code",
      "metadata": {
        "id": "pwIZ_vZnrQSB",
        "colab_type": "code",
        "colab": {}
      },
      "source": [
        ""
      ],
      "execution_count": 0,
      "outputs": []
    },
    {
      "cell_type": "code",
      "metadata": {
        "id": "67Yb_vuFc7Nq",
        "colab_type": "code",
        "outputId": "8fd9fecf-db53-4a81-d34d-e951a616bf5f",
        "colab": {
          "base_uri": "https://localhost:8080/",
          "height": 89
        }
      },
      "source": [
        "from sklearn.linear_model import LogisticRegression\n",
        "from sklearn.metrics import accuracy_score\n",
        "import pickle\n",
        "model = LogisticRegression(random_state=10, solver='lbfgs')\n",
        "model.fit(X_features, Y_features)\n",
        "y_pred = model.predict(X_test)\n",
        "predictions = [round(value) for value in y_pred]\n",
        "accuracy = accuracy_score(y_test, predictions)\n",
        "print(\"Accuracy: %.2f%%\" % (accuracy * 100.0))\n",
        "filename = 'LogisticReg.sav'\n",
        "pickle.dump(model, open(filename, 'wb'))"
      ],
      "execution_count": 550,
      "outputs": [
        {
          "output_type": "stream",
          "text": [
            "Accuracy: 79.74%\n"
          ],
          "name": "stdout"
        },
        {
          "output_type": "stream",
          "text": [
            "/usr/local/lib/python3.6/dist-packages/sklearn/utils/validation.py:724: DataConversionWarning: A column-vector y was passed when a 1d array was expected. Please change the shape of y to (n_samples, ), for example using ravel().\n",
            "  y = column_or_1d(y, warn=True)\n"
          ],
          "name": "stderr"
        }
      ]
    },
    {
      "cell_type": "code",
      "metadata": {
        "id": "e7OObp29dOm6",
        "colab_type": "code",
        "outputId": "edf94605-906e-46cb-ac23-80ef3042f6a8",
        "colab": {
          "base_uri": "https://localhost:8080/",
          "height": 124
        }
      },
      "source": [
        ""
      ],
      "execution_count": 0,
      "outputs": [
        {
          "output_type": "stream",
          "text": [
            "Accuracy: 84.31%\n"
          ],
          "name": "stdout"
        },
        {
          "output_type": "stream",
          "text": [
            "/usr/local/lib/python3.6/dist-packages/sklearn/utils/validation.py:724: DataConversionWarning: A column-vector y was passed when a 1d array was expected. Please change the shape of y to (n_samples, ), for example using ravel().\n",
            "  y = column_or_1d(y, warn=True)\n",
            "/usr/local/lib/python3.6/dist-packages/sklearn/svm/base.py:929: ConvergenceWarning: Liblinear failed to converge, increase the number of iterations.\n",
            "  \"the number of iterations.\", ConvergenceWarning)\n"
          ],
          "name": "stderr"
        }
      ]
    },
    {
      "cell_type": "code",
      "metadata": {
        "id": "3SsM863Gdmiy",
        "colab_type": "code",
        "outputId": "c1b14cc0-2d43-4ee9-c07d-a57eaab0a5f1",
        "colab": {
          "base_uri": "https://localhost:8080/",
          "height": 89
        }
      },
      "source": [
        "from sklearn.linear_model import LogisticRegressionCV\n",
        "from sklearn.model_selection import KFold,cross_val_score\n",
        "model = LogisticRegressionCV(cv=5, random_state=0,multi_class='multinomial')\n",
        "model.fit(X_features, Y_features)\n",
        "y_pred = model.predict(X_test)\n",
        "predictions = [round(value) for value in y_pred]\n",
        "\n",
        "accuracy = accuracy_score(y_test, predictions)\n",
        "print(\"Accuracy: %.2f%%\" % (accuracy * 100.0))\n",
        "filename = 'LogisticRegressionCV.sav'\n",
        "pickle.dump(model, open(filename, 'wb'))"
      ],
      "execution_count": 551,
      "outputs": [
        {
          "output_type": "stream",
          "text": [
            "/usr/local/lib/python3.6/dist-packages/sklearn/utils/validation.py:724: DataConversionWarning: A column-vector y was passed when a 1d array was expected. Please change the shape of y to (n_samples, ), for example using ravel().\n",
            "  y = column_or_1d(y, warn=True)\n"
          ],
          "name": "stderr"
        },
        {
          "output_type": "stream",
          "text": [
            "Accuracy: 78.43%\n"
          ],
          "name": "stdout"
        }
      ]
    },
    {
      "cell_type": "code",
      "metadata": {
        "id": "rodADemLpE5L",
        "colab_type": "code",
        "outputId": "a20306cd-ffc8-4aa1-98ff-a4d62273342f",
        "colab": {
          "base_uri": "https://localhost:8080/",
          "height": 35
        }
      },
      "source": [
        "import pickle\n",
        "filename = 'svm.sav'\n",
        "loaded_model = pickle.load(open(filename, 'rb'))\n",
        "svm_predictions = loaded_model.predict(X_test) \n",
        "\n",
        "accuracy = loaded_model.score(X_test, y_test)\n",
        "print(accuracy*100)\n"
      ],
      "execution_count": 0,
      "outputs": [
        {
          "output_type": "stream",
          "text": [
            "84.9673202614379\n"
          ],
          "name": "stdout"
        }
      ]
    },
    {
      "cell_type": "code",
      "metadata": {
        "id": "xwk3eS6_xsIe",
        "colab_type": "code",
        "outputId": "332a949a-9266-4b3a-a8c5-8fd15af1082b",
        "colab": {
          "base_uri": "https://localhost:8080/",
          "height": 255
        }
      },
      "source": [
        "print(df_Main_Features_final.columns)"
      ],
      "execution_count": 0,
      "outputs": [
        {
          "output_type": "stream",
          "text": [
            "Index(['Correlation_With_Lag_2', 'Correlation_With_Lag_3',\n",
            "       'Correlation_With_Lag_4', 'Correlation_With_Lag_5',\n",
            "       'Correlation_With_Lag_6', 'Correlation_With_Lag_8', 'PST_Fifth_Peak',\n",
            "       'PST_First_Peak', 'PST_Fourth_Peak', 'PST_Sec_Peak', 'PST_Sixth_Peak',\n",
            "       'PST_Third_Peak', 'PST_eight_Peak', 'PST_seventh_Peak', 'label',\n",
            "       'number_of_zero_crossings', 'polyFit_1Degree_First_Coef',\n",
            "       'polyFit_1Degree_Sec_Coef', 'polyFit_2Degree_First_Coef',\n",
            "       'polyFit_2Degree_Sec_Coef', 'polyFit_2Degree_Third_Coef',\n",
            "       'polyFit_3Degree_First_Coef', 'polyFit_3Degree_Fourth_Coef',\n",
            "       'polyFit_3Degree_Sec_Coef', 'polyFit_3Degree_Third_Coef',\n",
            "       'polyFit_4Degree_First_Coef', 'polyFit_4Degree_Five_Coef',\n",
            "       'polyFit_4Degree_Fourth_Coef', 'polyFit_4Degree_Sec_Coef',\n",
            "       'polyFit_4Degree_Third_Coef'],\n",
            "      dtype='object')\n"
          ],
          "name": "stdout"
        }
      ]
    },
    {
      "cell_type": "code",
      "metadata": {
        "id": "4lj_wkgHFyq_",
        "colab_type": "code",
        "outputId": "8ce21a7f-e90c-41b3-972f-bff93272b520",
        "colab": {
          "base_uri": "https://localhost:8080/",
          "height": 34
        }
      },
      "source": [
        "df_Main_=df_Main_Features_final[['Correlation_With_Lag_2', 'Correlation_With_Lag_3',\n",
        "       'Correlation_With_Lag_4', 'Correlation_With_Lag_5',\n",
        "       'Correlation_With_Lag_6', 'Correlation_With_Lag_8', 'PST_Fifth_Peak',\n",
        "       'PST_First_Peak', 'PST_Fourth_Peak', 'PST_Sec_Peak', 'PST_Sixth_Peak',\n",
        "       'PST_Third_Peak', 'PST_eight_Peak', 'PST_seventh_Peak',\n",
        "       'number_of_zero_crossings', 'polyFit_1Degree_First_Coef',\n",
        "       'polyFit_1Degree_Sec_Coef', 'polyFit_2Degree_First_Coef',\n",
        "       'polyFit_2Degree_Sec_Coef', 'polyFit_2Degree_Third_Coef',\n",
        "       'polyFit_3Degree_First_Coef', 'polyFit_3Degree_Fourth_Coef',\n",
        "       'polyFit_3Degree_Sec_Coef', 'polyFit_3Degree_Third_Coef',\n",
        "       'polyFit_4Degree_First_Coef', 'polyFit_4Degree_Five_Coef',\n",
        "       'polyFit_4Degree_Fourth_Coef', 'polyFit_4Degree_Sec_Coef',\n",
        "       'polyFit_4Degree_Third_Coef']]\n",
        "print(df_Main_.shape)"
      ],
      "execution_count": 0,
      "outputs": [
        {
          "output_type": "stream",
          "text": [
            "(510, 29)\n"
          ],
          "name": "stdout"
        }
      ]
    },
    {
      "cell_type": "code",
      "metadata": {
        "id": "sz474lq_Vyfi",
        "colab_type": "code",
        "outputId": "9948d34d-1527-4c09-8021-f2867ba1085d",
        "colab": {
          "base_uri": "https://localhost:8080/",
          "height": 85
        }
      },
      "source": [
        "print(df_Main_.T.columns)"
      ],
      "execution_count": 0,
      "outputs": [
        {
          "output_type": "stream",
          "text": [
            "Int64Index([  0,   1,   2,   3,   4,   5,   6,   7,   8,   9,\n",
            "            ...\n",
            "            245, 246, 247, 248, 249, 250, 251, 252, 253, 254],\n",
            "           dtype='int64', length=510)\n"
          ],
          "name": "stdout"
        }
      ]
    },
    {
      "cell_type": "code",
      "metadata": {
        "id": "d0qDR6CiDhSK",
        "colab_type": "code",
        "outputId": "b7d6e3a3-8e33-4e6f-a935-8197844d9021",
        "colab": {
          "base_uri": "https://localhost:8080/",
          "height": 34
        }
      },
      "source": [
        "df_Main_=df_Main_.T\n",
        "print(df_Main_.shape)"
      ],
      "execution_count": 0,
      "outputs": [
        {
          "output_type": "stream",
          "text": [
            "(29, 510)\n"
          ],
          "name": "stdout"
        }
      ]
    },
    {
      "cell_type": "code",
      "metadata": {
        "id": "PvgVywMEF1VQ",
        "colab_type": "code",
        "outputId": "06d5b0ee-ee64-4d15-ada9-09cbbab5a137",
        "colab": {
          "base_uri": "https://localhost:8080/",
          "height": 35
        }
      },
      "source": [
        "covariance_matrix = np.cov(df_Main_.T)\n",
        "eigen_values,eigen_vectors = np.linalg.eigh(covariance_matrix)\n",
        "print(eigen_vectors.shape)\n",
        "eigen_vectors_top = eigen_vectors[-5:,:]\n",
        "pca_of_the_data = np.dot( df_Main_,eigen_vectors_top.T)\n"
      ],
      "execution_count": 0,
      "outputs": [
        {
          "output_type": "stream",
          "text": [
            "(37, 37)\n"
          ],
          "name": "stdout"
        }
      ]
    },
    {
      "cell_type": "code",
      "metadata": {
        "id": "QQ3MiuEppBa3",
        "colab_type": "code",
        "colab": {}
      },
      "source": [
        "np.savetxt('/eigen_vectors_top.csv', eigen_vectors_top, delimiter=',')\n",
        "#np.savetxt(eigen_vectors_top\")"
      ],
      "execution_count": 0,
      "outputs": []
    },
    {
      "cell_type": "code",
      "metadata": {
        "id": "FiWOca3xuGeY",
        "colab_type": "code",
        "outputId": "7381712c-b410-487c-ef83-230f312608e6",
        "colab": {
          "base_uri": "https://localhost:8080/",
          "height": 34
        }
      },
      "source": [
        "print(pca_of_the_data.shape)"
      ],
      "execution_count": 0,
      "outputs": [
        {
          "output_type": "stream",
          "text": [
            "(510, 5)\n"
          ],
          "name": "stdout"
        }
      ]
    },
    {
      "cell_type": "code",
      "metadata": {
        "id": "_nGpgav_Gewb",
        "colab_type": "code",
        "outputId": "217d613e-eae1-456b-ee74-2cbf80b6e682",
        "colab": {
          "base_uri": "https://localhost:8080/",
          "height": 35
        }
      },
      "source": [
        "#Final_Data = pca_of_the_data.T\n",
        "print(X_features.shape)"
      ],
      "execution_count": 0,
      "outputs": [
        {
          "output_type": "stream",
          "text": [
            "(510, 5)\n"
          ],
          "name": "stdout"
        }
      ]
    },
    {
      "cell_type": "code",
      "metadata": {
        "id": "BDCGW_CVLaKP",
        "colab_type": "code",
        "outputId": "526c7e14-e7c7-48bb-af7d-ccc9cba8c1de",
        "colab": {
          "base_uri": "https://localhost:8080/",
          "height": 505
        }
      },
      "source": [
        "from sklearn.linear_model import LogisticRegression\n",
        "from sklearn.model_selection import KFold,cross_val_score\n",
        "model = LogisticRegression(random_state=10, solver='lbfgs')\n",
        "kfold = KFold(n_splits=13, random_state=23)\n",
        "results = cross_val_score(model, X_features, Y_features, cv=kfold)\n",
        "print(\"Logistic regression: Accuracy: %.2f%% (%.2f%%)\" % (results.mean()*100, results.std()*100))"
      ],
      "execution_count": 0,
      "outputs": [
        {
          "output_type": "stream",
          "text": [
            "/usr/local/lib/python3.6/dist-packages/sklearn/utils/validation.py:724: DataConversionWarning: A column-vector y was passed when a 1d array was expected. Please change the shape of y to (n_samples, ), for example using ravel().\n",
            "  y = column_or_1d(y, warn=True)\n",
            "/usr/local/lib/python3.6/dist-packages/sklearn/utils/validation.py:724: DataConversionWarning: A column-vector y was passed when a 1d array was expected. Please change the shape of y to (n_samples, ), for example using ravel().\n",
            "  y = column_or_1d(y, warn=True)\n",
            "/usr/local/lib/python3.6/dist-packages/sklearn/utils/validation.py:724: DataConversionWarning: A column-vector y was passed when a 1d array was expected. Please change the shape of y to (n_samples, ), for example using ravel().\n",
            "  y = column_or_1d(y, warn=True)\n",
            "/usr/local/lib/python3.6/dist-packages/sklearn/utils/validation.py:724: DataConversionWarning: A column-vector y was passed when a 1d array was expected. Please change the shape of y to (n_samples, ), for example using ravel().\n",
            "  y = column_or_1d(y, warn=True)\n",
            "/usr/local/lib/python3.6/dist-packages/sklearn/utils/validation.py:724: DataConversionWarning: A column-vector y was passed when a 1d array was expected. Please change the shape of y to (n_samples, ), for example using ravel().\n",
            "  y = column_or_1d(y, warn=True)\n",
            "/usr/local/lib/python3.6/dist-packages/sklearn/utils/validation.py:724: DataConversionWarning: A column-vector y was passed when a 1d array was expected. Please change the shape of y to (n_samples, ), for example using ravel().\n",
            "  y = column_or_1d(y, warn=True)\n",
            "/usr/local/lib/python3.6/dist-packages/sklearn/utils/validation.py:724: DataConversionWarning: A column-vector y was passed when a 1d array was expected. Please change the shape of y to (n_samples, ), for example using ravel().\n",
            "  y = column_or_1d(y, warn=True)\n",
            "/usr/local/lib/python3.6/dist-packages/sklearn/utils/validation.py:724: DataConversionWarning: A column-vector y was passed when a 1d array was expected. Please change the shape of y to (n_samples, ), for example using ravel().\n",
            "  y = column_or_1d(y, warn=True)\n",
            "/usr/local/lib/python3.6/dist-packages/sklearn/utils/validation.py:724: DataConversionWarning: A column-vector y was passed when a 1d array was expected. Please change the shape of y to (n_samples, ), for example using ravel().\n",
            "  y = column_or_1d(y, warn=True)\n",
            "/usr/local/lib/python3.6/dist-packages/sklearn/utils/validation.py:724: DataConversionWarning: A column-vector y was passed when a 1d array was expected. Please change the shape of y to (n_samples, ), for example using ravel().\n",
            "  y = column_or_1d(y, warn=True)\n"
          ],
          "name": "stderr"
        },
        {
          "output_type": "stream",
          "text": [
            "Logistic regression: Accuracy: 77.64% (12.87%)\n"
          ],
          "name": "stdout"
        },
        {
          "output_type": "stream",
          "text": [
            "/usr/local/lib/python3.6/dist-packages/sklearn/utils/validation.py:724: DataConversionWarning: A column-vector y was passed when a 1d array was expected. Please change the shape of y to (n_samples, ), for example using ravel().\n",
            "  y = column_or_1d(y, warn=True)\n",
            "/usr/local/lib/python3.6/dist-packages/sklearn/utils/validation.py:724: DataConversionWarning: A column-vector y was passed when a 1d array was expected. Please change the shape of y to (n_samples, ), for example using ravel().\n",
            "  y = column_or_1d(y, warn=True)\n",
            "/usr/local/lib/python3.6/dist-packages/sklearn/utils/validation.py:724: DataConversionWarning: A column-vector y was passed when a 1d array was expected. Please change the shape of y to (n_samples, ), for example using ravel().\n",
            "  y = column_or_1d(y, warn=True)\n"
          ],
          "name": "stderr"
        }
      ]
    },
    {
      "cell_type": "code",
      "metadata": {
        "id": "rmdyk7TDMzgI",
        "colab_type": "code",
        "outputId": "2729d07d-66da-4ba0-c2bb-8460348baa3e",
        "colab": {
          "base_uri": "https://localhost:8080/",
          "height": 956
        }
      },
      "source": [
        "from sklearn.svm import LinearSVC\n",
        "from sklearn.model_selection import KFold,cross_val_score\n",
        "model = LinearSVC(random_state=0, tol=1e-5)\n",
        "kf = KFold(n_splits=10, random_state=23)\n",
        "results = cross_val_score(model, X_features, np.array(Y_features), cv=kfold)\n",
        "print(\"Linear svc: Accuracy: %.2f%% (%.2f%%)\" % (results.mean()*100, results.std()*100))\n",
        "\n",
        "\n",
        "\n"
      ],
      "execution_count": 0,
      "outputs": [
        {
          "output_type": "stream",
          "text": [
            "/usr/local/lib/python3.6/dist-packages/sklearn/utils/validation.py:724: DataConversionWarning: A column-vector y was passed when a 1d array was expected. Please change the shape of y to (n_samples, ), for example using ravel().\n",
            "  y = column_or_1d(y, warn=True)\n",
            "/usr/local/lib/python3.6/dist-packages/sklearn/svm/base.py:929: ConvergenceWarning: Liblinear failed to converge, increase the number of iterations.\n",
            "  \"the number of iterations.\", ConvergenceWarning)\n",
            "/usr/local/lib/python3.6/dist-packages/sklearn/utils/validation.py:724: DataConversionWarning: A column-vector y was passed when a 1d array was expected. Please change the shape of y to (n_samples, ), for example using ravel().\n",
            "  y = column_or_1d(y, warn=True)\n",
            "/usr/local/lib/python3.6/dist-packages/sklearn/svm/base.py:929: ConvergenceWarning: Liblinear failed to converge, increase the number of iterations.\n",
            "  \"the number of iterations.\", ConvergenceWarning)\n",
            "/usr/local/lib/python3.6/dist-packages/sklearn/utils/validation.py:724: DataConversionWarning: A column-vector y was passed when a 1d array was expected. Please change the shape of y to (n_samples, ), for example using ravel().\n",
            "  y = column_or_1d(y, warn=True)\n",
            "/usr/local/lib/python3.6/dist-packages/sklearn/svm/base.py:929: ConvergenceWarning: Liblinear failed to converge, increase the number of iterations.\n",
            "  \"the number of iterations.\", ConvergenceWarning)\n",
            "/usr/local/lib/python3.6/dist-packages/sklearn/utils/validation.py:724: DataConversionWarning: A column-vector y was passed when a 1d array was expected. Please change the shape of y to (n_samples, ), for example using ravel().\n",
            "  y = column_or_1d(y, warn=True)\n",
            "/usr/local/lib/python3.6/dist-packages/sklearn/svm/base.py:929: ConvergenceWarning: Liblinear failed to converge, increase the number of iterations.\n",
            "  \"the number of iterations.\", ConvergenceWarning)\n",
            "/usr/local/lib/python3.6/dist-packages/sklearn/utils/validation.py:724: DataConversionWarning: A column-vector y was passed when a 1d array was expected. Please change the shape of y to (n_samples, ), for example using ravel().\n",
            "  y = column_or_1d(y, warn=True)\n",
            "/usr/local/lib/python3.6/dist-packages/sklearn/svm/base.py:929: ConvergenceWarning: Liblinear failed to converge, increase the number of iterations.\n",
            "  \"the number of iterations.\", ConvergenceWarning)\n",
            "/usr/local/lib/python3.6/dist-packages/sklearn/utils/validation.py:724: DataConversionWarning: A column-vector y was passed when a 1d array was expected. Please change the shape of y to (n_samples, ), for example using ravel().\n",
            "  y = column_or_1d(y, warn=True)\n",
            "/usr/local/lib/python3.6/dist-packages/sklearn/svm/base.py:929: ConvergenceWarning: Liblinear failed to converge, increase the number of iterations.\n",
            "  \"the number of iterations.\", ConvergenceWarning)\n",
            "/usr/local/lib/python3.6/dist-packages/sklearn/utils/validation.py:724: DataConversionWarning: A column-vector y was passed when a 1d array was expected. Please change the shape of y to (n_samples, ), for example using ravel().\n",
            "  y = column_or_1d(y, warn=True)\n",
            "/usr/local/lib/python3.6/dist-packages/sklearn/svm/base.py:929: ConvergenceWarning: Liblinear failed to converge, increase the number of iterations.\n",
            "  \"the number of iterations.\", ConvergenceWarning)\n",
            "/usr/local/lib/python3.6/dist-packages/sklearn/utils/validation.py:724: DataConversionWarning: A column-vector y was passed when a 1d array was expected. Please change the shape of y to (n_samples, ), for example using ravel().\n",
            "  y = column_or_1d(y, warn=True)\n",
            "/usr/local/lib/python3.6/dist-packages/sklearn/svm/base.py:929: ConvergenceWarning: Liblinear failed to converge, increase the number of iterations.\n",
            "  \"the number of iterations.\", ConvergenceWarning)\n",
            "/usr/local/lib/python3.6/dist-packages/sklearn/utils/validation.py:724: DataConversionWarning: A column-vector y was passed when a 1d array was expected. Please change the shape of y to (n_samples, ), for example using ravel().\n",
            "  y = column_or_1d(y, warn=True)\n"
          ],
          "name": "stderr"
        },
        {
          "output_type": "stream",
          "text": [
            "Linear svc: Accuracy: 53.95% (38.97%)\n"
          ],
          "name": "stdout"
        },
        {
          "output_type": "stream",
          "text": [
            "/usr/local/lib/python3.6/dist-packages/sklearn/svm/base.py:929: ConvergenceWarning: Liblinear failed to converge, increase the number of iterations.\n",
            "  \"the number of iterations.\", ConvergenceWarning)\n",
            "/usr/local/lib/python3.6/dist-packages/sklearn/utils/validation.py:724: DataConversionWarning: A column-vector y was passed when a 1d array was expected. Please change the shape of y to (n_samples, ), for example using ravel().\n",
            "  y = column_or_1d(y, warn=True)\n",
            "/usr/local/lib/python3.6/dist-packages/sklearn/svm/base.py:929: ConvergenceWarning: Liblinear failed to converge, increase the number of iterations.\n",
            "  \"the number of iterations.\", ConvergenceWarning)\n",
            "/usr/local/lib/python3.6/dist-packages/sklearn/utils/validation.py:724: DataConversionWarning: A column-vector y was passed when a 1d array was expected. Please change the shape of y to (n_samples, ), for example using ravel().\n",
            "  y = column_or_1d(y, warn=True)\n",
            "/usr/local/lib/python3.6/dist-packages/sklearn/svm/base.py:929: ConvergenceWarning: Liblinear failed to converge, increase the number of iterations.\n",
            "  \"the number of iterations.\", ConvergenceWarning)\n",
            "/usr/local/lib/python3.6/dist-packages/sklearn/utils/validation.py:724: DataConversionWarning: A column-vector y was passed when a 1d array was expected. Please change the shape of y to (n_samples, ), for example using ravel().\n",
            "  y = column_or_1d(y, warn=True)\n",
            "/usr/local/lib/python3.6/dist-packages/sklearn/svm/base.py:929: ConvergenceWarning: Liblinear failed to converge, increase the number of iterations.\n",
            "  \"the number of iterations.\", ConvergenceWarning)\n",
            "/usr/local/lib/python3.6/dist-packages/sklearn/utils/validation.py:724: DataConversionWarning: A column-vector y was passed when a 1d array was expected. Please change the shape of y to (n_samples, ), for example using ravel().\n",
            "  y = column_or_1d(y, warn=True)\n",
            "/usr/local/lib/python3.6/dist-packages/sklearn/svm/base.py:929: ConvergenceWarning: Liblinear failed to converge, increase the number of iterations.\n",
            "  \"the number of iterations.\", ConvergenceWarning)\n"
          ],
          "name": "stderr"
        }
      ]
    },
    {
      "cell_type": "code",
      "metadata": {
        "id": "rUXizyN-aSoL",
        "colab_type": "code",
        "colab": {}
      },
      "source": [
        "from sklearn.neural_network import MLPClassifier\n",
        "from sklearn.model_selection import KFold,cross_val_score\n",
        "model = MLPClassifier(hidden_layer_sizes=100, activation='logistic', max_iter=2000, alpha=0.00001,\n",
        "                      learning_rate='adaptive', solver='adam', tol=0.000002)\n",
        "kfold = KFold(n_splits=10, random_state=2)\n",
        "results = cross_val_score(model, X_features, np.array(Y_features), cv=kfold)\n",
        "print(\"MLP: Accuracy: %.2f%% (%.2f%%)\" % (results.mean()*100, results.std()*100))\n",
        "\n"
      ],
      "execution_count": 0,
      "outputs": []
    },
    {
      "cell_type": "code",
      "metadata": {
        "id": "bHHiovjGO_nn",
        "colab_type": "code",
        "outputId": "38ac68d7-4655-444d-b810-6b1a073e359a",
        "colab": {
          "base_uri": "https://localhost:8080/",
          "height": 401
        }
      },
      "source": [
        "\n",
        "from sklearn.linear_model import RidgeClassifier\n",
        "from sklearn.model_selection import KFold,cross_val_score\n",
        "model = RidgeClassifier(max_iter=2000, tol=1e-6)\n",
        "kfold = KFold(n_splits=10, random_state=2)\n",
        "results = cross_val_score(model, X_features, np.array(Y_features), cv=kfold)\n",
        "print(\"ridge classifier Accuracy: %.2f%% (%.2f%%)\" % (results.mean()*100, results.std()*100))\n",
        "\n"
      ],
      "execution_count": 0,
      "outputs": [
        {
          "output_type": "stream",
          "text": [
            "ridge classifier Accuracy: 68.63% (17.65%)\n"
          ],
          "name": "stdout"
        },
        {
          "output_type": "stream",
          "text": [
            "/usr/local/lib/python3.6/dist-packages/sklearn/linear_model/ridge.py:909: DataConversionWarning: A column-vector y was passed when a 1d array was expected. Please change the shape of y to (n_samples, ), for example using ravel().\n",
            "  y = column_or_1d(y, warn=True)\n",
            "/usr/local/lib/python3.6/dist-packages/sklearn/linear_model/ridge.py:909: DataConversionWarning: A column-vector y was passed when a 1d array was expected. Please change the shape of y to (n_samples, ), for example using ravel().\n",
            "  y = column_or_1d(y, warn=True)\n",
            "/usr/local/lib/python3.6/dist-packages/sklearn/linear_model/ridge.py:909: DataConversionWarning: A column-vector y was passed when a 1d array was expected. Please change the shape of y to (n_samples, ), for example using ravel().\n",
            "  y = column_or_1d(y, warn=True)\n",
            "/usr/local/lib/python3.6/dist-packages/sklearn/linear_model/ridge.py:909: DataConversionWarning: A column-vector y was passed when a 1d array was expected. Please change the shape of y to (n_samples, ), for example using ravel().\n",
            "  y = column_or_1d(y, warn=True)\n",
            "/usr/local/lib/python3.6/dist-packages/sklearn/linear_model/ridge.py:909: DataConversionWarning: A column-vector y was passed when a 1d array was expected. Please change the shape of y to (n_samples, ), for example using ravel().\n",
            "  y = column_or_1d(y, warn=True)\n",
            "/usr/local/lib/python3.6/dist-packages/sklearn/linear_model/ridge.py:909: DataConversionWarning: A column-vector y was passed when a 1d array was expected. Please change the shape of y to (n_samples, ), for example using ravel().\n",
            "  y = column_or_1d(y, warn=True)\n",
            "/usr/local/lib/python3.6/dist-packages/sklearn/linear_model/ridge.py:909: DataConversionWarning: A column-vector y was passed when a 1d array was expected. Please change the shape of y to (n_samples, ), for example using ravel().\n",
            "  y = column_or_1d(y, warn=True)\n",
            "/usr/local/lib/python3.6/dist-packages/sklearn/linear_model/ridge.py:909: DataConversionWarning: A column-vector y was passed when a 1d array was expected. Please change the shape of y to (n_samples, ), for example using ravel().\n",
            "  y = column_or_1d(y, warn=True)\n",
            "/usr/local/lib/python3.6/dist-packages/sklearn/linear_model/ridge.py:909: DataConversionWarning: A column-vector y was passed when a 1d array was expected. Please change the shape of y to (n_samples, ), for example using ravel().\n",
            "  y = column_or_1d(y, warn=True)\n",
            "/usr/local/lib/python3.6/dist-packages/sklearn/linear_model/ridge.py:909: DataConversionWarning: A column-vector y was passed when a 1d array was expected. Please change the shape of y to (n_samples, ), for example using ravel().\n",
            "  y = column_or_1d(y, warn=True)\n"
          ],
          "name": "stderr"
        }
      ]
    },
    {
      "cell_type": "code",
      "metadata": {
        "id": "Z4FHDrMs_ivZ",
        "colab_type": "code",
        "colab": {}
      },
      "source": [
        "from sklearn.linear_model import RidgeClassifier\n",
        "from sklearn.model_selection import KFold,cross_val_score\n",
        "model = RidgeClassifier(max_iter=2000, tol=1e-6)\n"
      ],
      "execution_count": 0,
      "outputs": []
    },
    {
      "cell_type": "code",
      "metadata": {
        "id": "XPPtat5l_MET",
        "colab_type": "code",
        "outputId": "c491cbed-d4cd-41eb-df75-a262d595b497",
        "colab": {
          "base_uri": "https://localhost:8080/",
          "height": 124
        }
      },
      "source": [
        "model = RidgeClassifier(max_iter=2000, tol=1e-6)\n",
        "model.fit(X_features,Y_features)"
      ],
      "execution_count": 553,
      "outputs": [
        {
          "output_type": "stream",
          "text": [
            "/usr/local/lib/python3.6/dist-packages/sklearn/linear_model/ridge.py:909: DataConversionWarning: A column-vector y was passed when a 1d array was expected. Please change the shape of y to (n_samples, ), for example using ravel().\n",
            "  y = column_or_1d(y, warn=True)\n"
          ],
          "name": "stderr"
        },
        {
          "output_type": "execute_result",
          "data": {
            "text/plain": [
              "RidgeClassifier(alpha=1.0, class_weight=None, copy_X=True, fit_intercept=True,\n",
              "                max_iter=2000, normalize=False, random_state=None,\n",
              "                solver='auto', tol=1e-06)"
            ]
          },
          "metadata": {
            "tags": []
          },
          "execution_count": 553
        }
      ]
    },
    {
      "cell_type": "code",
      "metadata": {
        "id": "gBfxyPsk_8dq",
        "colab_type": "code",
        "outputId": "12b3dcab-3f07-498c-c96a-46e993bc6bb9",
        "colab": {
          "base_uri": "https://localhost:8080/",
          "height": 35
        }
      },
      "source": [
        "from sklearn.metrics import accuracy_score\n",
        "y_pred =model.predict(X_test)\n",
        "\n",
        "accuracy = accuracy_score(y_test, y_pred)\n",
        "print(accuracy)"
      ],
      "execution_count": 554,
      "outputs": [
        {
          "output_type": "stream",
          "text": [
            "0.7450980392156863\n"
          ],
          "name": "stdout"
        }
      ]
    },
    {
      "cell_type": "code",
      "metadata": {
        "id": "CqRKUzUzQOsR",
        "colab_type": "code",
        "outputId": "a441f21b-5434-4596-cc69-5ef80511c213",
        "colab": {
          "base_uri": "https://localhost:8080/",
          "height": 505
        }
      },
      "source": [
        "from sklearn.linear_model import LogisticRegressionCV\n",
        "from sklearn.model_selection import KFold,cross_val_score\n",
        "model = LogisticRegressionCV(cv=5, random_state=0,multi_class='multinomial')\n",
        "kf = KFold(n_splits=10, random_state=2)\n",
        "results = cross_val_score(model, X_features, Y_features, cv=kfold)\n",
        "print(\"Logistic regression CV: Accuracy: %.2f%% (%.2f%%)\" % (results.mean()*100, results.std()*100))\n",
        "\n"
      ],
      "execution_count": 0,
      "outputs": [
        {
          "output_type": "stream",
          "text": [
            "/usr/local/lib/python3.6/dist-packages/sklearn/utils/validation.py:724: DataConversionWarning: A column-vector y was passed when a 1d array was expected. Please change the shape of y to (n_samples, ), for example using ravel().\n",
            "  y = column_or_1d(y, warn=True)\n",
            "/usr/local/lib/python3.6/dist-packages/sklearn/utils/validation.py:724: DataConversionWarning: A column-vector y was passed when a 1d array was expected. Please change the shape of y to (n_samples, ), for example using ravel().\n",
            "  y = column_or_1d(y, warn=True)\n",
            "/usr/local/lib/python3.6/dist-packages/sklearn/utils/validation.py:724: DataConversionWarning: A column-vector y was passed when a 1d array was expected. Please change the shape of y to (n_samples, ), for example using ravel().\n",
            "  y = column_or_1d(y, warn=True)\n",
            "/usr/local/lib/python3.6/dist-packages/sklearn/utils/validation.py:724: DataConversionWarning: A column-vector y was passed when a 1d array was expected. Please change the shape of y to (n_samples, ), for example using ravel().\n",
            "  y = column_or_1d(y, warn=True)\n",
            "/usr/local/lib/python3.6/dist-packages/sklearn/utils/validation.py:724: DataConversionWarning: A column-vector y was passed when a 1d array was expected. Please change the shape of y to (n_samples, ), for example using ravel().\n",
            "  y = column_or_1d(y, warn=True)\n",
            "/usr/local/lib/python3.6/dist-packages/sklearn/utils/validation.py:724: DataConversionWarning: A column-vector y was passed when a 1d array was expected. Please change the shape of y to (n_samples, ), for example using ravel().\n",
            "  y = column_or_1d(y, warn=True)\n",
            "/usr/local/lib/python3.6/dist-packages/sklearn/utils/validation.py:724: DataConversionWarning: A column-vector y was passed when a 1d array was expected. Please change the shape of y to (n_samples, ), for example using ravel().\n",
            "  y = column_or_1d(y, warn=True)\n",
            "/usr/local/lib/python3.6/dist-packages/sklearn/utils/validation.py:724: DataConversionWarning: A column-vector y was passed when a 1d array was expected. Please change the shape of y to (n_samples, ), for example using ravel().\n",
            "  y = column_or_1d(y, warn=True)\n",
            "/usr/local/lib/python3.6/dist-packages/sklearn/utils/validation.py:724: DataConversionWarning: A column-vector y was passed when a 1d array was expected. Please change the shape of y to (n_samples, ), for example using ravel().\n",
            "  y = column_or_1d(y, warn=True)\n",
            "/usr/local/lib/python3.6/dist-packages/sklearn/utils/validation.py:724: DataConversionWarning: A column-vector y was passed when a 1d array was expected. Please change the shape of y to (n_samples, ), for example using ravel().\n",
            "  y = column_or_1d(y, warn=True)\n",
            "/usr/local/lib/python3.6/dist-packages/sklearn/utils/validation.py:724: DataConversionWarning: A column-vector y was passed when a 1d array was expected. Please change the shape of y to (n_samples, ), for example using ravel().\n",
            "  y = column_or_1d(y, warn=True)\n",
            "/usr/local/lib/python3.6/dist-packages/sklearn/utils/validation.py:724: DataConversionWarning: A column-vector y was passed when a 1d array was expected. Please change the shape of y to (n_samples, ), for example using ravel().\n",
            "  y = column_or_1d(y, warn=True)\n",
            "/usr/local/lib/python3.6/dist-packages/sklearn/utils/validation.py:724: DataConversionWarning: A column-vector y was passed when a 1d array was expected. Please change the shape of y to (n_samples, ), for example using ravel().\n",
            "  y = column_or_1d(y, warn=True)\n"
          ],
          "name": "stderr"
        },
        {
          "output_type": "stream",
          "text": [
            "Logistic regression CV: Accuracy: 81.96% (10.90%)\n"
          ],
          "name": "stdout"
        }
      ]
    },
    {
      "cell_type": "code",
      "metadata": {
        "id": "9rM684kNaYnL",
        "colab_type": "code",
        "outputId": "fd3b201b-82db-45ba-b01e-0453ab0e8aef",
        "colab": {
          "base_uri": "https://localhost:8080/",
          "height": 228
        }
      },
      "source": [
        "\n",
        "from sklearn.naive_bayes import GaussianNB\n",
        "from sklearn.model_selection import KFold,cross_val_score\n",
        "model = GaussianNB()\n",
        "kf = KFold(n_splits=6, random_state=2)\n",
        "model.fit(X_features, Y_features)\n",
        "results = cross_val_score(model, X_features, Y_features, cv=4)\n",
        "print(\"Naives Bayes CV: Accuracy: %.2f%% (%.2f%%)\" % (results.mean()*100, results.std()*100))"
      ],
      "execution_count": 0,
      "outputs": [
        {
          "output_type": "stream",
          "text": [
            "Naives Bayes CV: Accuracy: 81.58% (2.91%)\n"
          ],
          "name": "stdout"
        },
        {
          "output_type": "stream",
          "text": [
            "/usr/local/lib/python3.6/dist-packages/sklearn/utils/validation.py:724: DataConversionWarning: A column-vector y was passed when a 1d array was expected. Please change the shape of y to (n_samples, ), for example using ravel().\n",
            "  y = column_or_1d(y, warn=True)\n",
            "/usr/local/lib/python3.6/dist-packages/sklearn/utils/validation.py:724: DataConversionWarning: A column-vector y was passed when a 1d array was expected. Please change the shape of y to (n_samples, ), for example using ravel().\n",
            "  y = column_or_1d(y, warn=True)\n",
            "/usr/local/lib/python3.6/dist-packages/sklearn/utils/validation.py:724: DataConversionWarning: A column-vector y was passed when a 1d array was expected. Please change the shape of y to (n_samples, ), for example using ravel().\n",
            "  y = column_or_1d(y, warn=True)\n",
            "/usr/local/lib/python3.6/dist-packages/sklearn/utils/validation.py:724: DataConversionWarning: A column-vector y was passed when a 1d array was expected. Please change the shape of y to (n_samples, ), for example using ravel().\n",
            "  y = column_or_1d(y, warn=True)\n",
            "/usr/local/lib/python3.6/dist-packages/sklearn/utils/validation.py:724: DataConversionWarning: A column-vector y was passed when a 1d array was expected. Please change the shape of y to (n_samples, ), for example using ravel().\n",
            "  y = column_or_1d(y, warn=True)\n"
          ],
          "name": "stderr"
        }
      ]
    },
    {
      "cell_type": "code",
      "metadata": {
        "id": "f9IvOzVNauX9",
        "colab_type": "code",
        "outputId": "a76cece4-9a2e-408c-eebf-6a5d896a1527",
        "colab": {
          "base_uri": "https://localhost:8080/",
          "height": 401
        }
      },
      "source": [
        "from sklearn.linear_model import SGDClassifier\n",
        "from sklearn.model_selection import KFold,cross_val_score\n",
        "model = SGDClassifier(max_iter=2000, tol=1e-5,random_state=0)\n",
        "#kfold = KFold(n_splits=10, random_state=2)\n",
        "results = cross_val_score(model, X_features, np.array(Y_features), cv=5)\n",
        "print(\"SGDC Accuracy: %.2f%% (%.2f%%)\" % (results.mean()*100, results.std()*100))\n"
      ],
      "execution_count": 0,
      "outputs": [
        {
          "output_type": "stream",
          "text": [
            "SGDC Accuracy: 64.90% (20.31%)\n"
          ],
          "name": "stdout"
        },
        {
          "output_type": "stream",
          "text": [
            "/usr/local/lib/python3.6/dist-packages/sklearn/utils/validation.py:724: DataConversionWarning: A column-vector y was passed when a 1d array was expected. Please change the shape of y to (n_samples, ), for example using ravel().\n",
            "  y = column_or_1d(y, warn=True)\n",
            "/usr/local/lib/python3.6/dist-packages/sklearn/utils/validation.py:724: DataConversionWarning: A column-vector y was passed when a 1d array was expected. Please change the shape of y to (n_samples, ), for example using ravel().\n",
            "  y = column_or_1d(y, warn=True)\n",
            "/usr/local/lib/python3.6/dist-packages/sklearn/utils/validation.py:724: DataConversionWarning: A column-vector y was passed when a 1d array was expected. Please change the shape of y to (n_samples, ), for example using ravel().\n",
            "  y = column_or_1d(y, warn=True)\n",
            "/usr/local/lib/python3.6/dist-packages/sklearn/utils/validation.py:724: DataConversionWarning: A column-vector y was passed when a 1d array was expected. Please change the shape of y to (n_samples, ), for example using ravel().\n",
            "  y = column_or_1d(y, warn=True)\n",
            "/usr/local/lib/python3.6/dist-packages/sklearn/utils/validation.py:724: DataConversionWarning: A column-vector y was passed when a 1d array was expected. Please change the shape of y to (n_samples, ), for example using ravel().\n",
            "  y = column_or_1d(y, warn=True)\n",
            "/usr/local/lib/python3.6/dist-packages/sklearn/utils/validation.py:724: DataConversionWarning: A column-vector y was passed when a 1d array was expected. Please change the shape of y to (n_samples, ), for example using ravel().\n",
            "  y = column_or_1d(y, warn=True)\n",
            "/usr/local/lib/python3.6/dist-packages/sklearn/utils/validation.py:724: DataConversionWarning: A column-vector y was passed when a 1d array was expected. Please change the shape of y to (n_samples, ), for example using ravel().\n",
            "  y = column_or_1d(y, warn=True)\n",
            "/usr/local/lib/python3.6/dist-packages/sklearn/utils/validation.py:724: DataConversionWarning: A column-vector y was passed when a 1d array was expected. Please change the shape of y to (n_samples, ), for example using ravel().\n",
            "  y = column_or_1d(y, warn=True)\n",
            "/usr/local/lib/python3.6/dist-packages/sklearn/utils/validation.py:724: DataConversionWarning: A column-vector y was passed when a 1d array was expected. Please change the shape of y to (n_samples, ), for example using ravel().\n",
            "  y = column_or_1d(y, warn=True)\n",
            "/usr/local/lib/python3.6/dist-packages/sklearn/utils/validation.py:724: DataConversionWarning: A column-vector y was passed when a 1d array was expected. Please change the shape of y to (n_samples, ), for example using ravel().\n",
            "  y = column_or_1d(y, warn=True)\n"
          ],
          "name": "stderr"
        }
      ]
    },
    {
      "cell_type": "code",
      "metadata": {
        "id": "oHuUD7dtws2Y",
        "colab_type": "code",
        "outputId": "a8a63ef0-f139-4bdf-d1d8-fb066e1ee13f",
        "colab": {
          "base_uri": "https://localhost:8080/",
          "height": 89
        }
      },
      "source": [
        "from sklearn.linear_model import Perceptron\n",
        "#clf = Perceptron(tol=1e-3, random_state=0)\n",
        "\n",
        "clf=Perceptron(alpha=0.0001, class_weight=None, early_stopping=False, eta0=1.0,\n",
        "      fit_intercept=True, max_iter=1000, n_iter_no_change=5, n_jobs=None,\n",
        "      penalty=None, random_state=0, shuffle=True, tol=0.001,\n",
        "      validation_fraction=0.1, verbose=0, warm_start=False)\n",
        "clf.fit(X_train, y_train)\n",
        "filename = 'perceptron.sav'\n",
        "pickle.dump(model, open(filename, 'wb'))\n",
        "clf.score(X_test, y_test)"
      ],
      "execution_count": 0,
      "outputs": [
        {
          "output_type": "stream",
          "text": [
            "/usr/local/lib/python3.6/dist-packages/sklearn/utils/validation.py:724: DataConversionWarning: A column-vector y was passed when a 1d array was expected. Please change the shape of y to (n_samples, ), for example using ravel().\n",
            "  y = column_or_1d(y, warn=True)\n"
          ],
          "name": "stderr"
        },
        {
          "output_type": "execute_result",
          "data": {
            "text/plain": [
              "0.7516339869281046"
            ]
          },
          "metadata": {
            "tags": []
          },
          "execution_count": 509
        }
      ]
    },
    {
      "cell_type": "code",
      "metadata": {
        "id": "qf2wATcQKr2l",
        "colab_type": "code",
        "colab": {
          "base_uri": "https://localhost:8080/",
          "height": 575
        },
        "outputId": "d97d984b-cb75-4b0a-8ff8-7b03486269d9"
      },
      "source": [
        "kf = KFold(n_splits=6, random_state=2)\n",
        "y = np.array(Y_features)\n",
        "value=0\n",
        "for train_index, test_index in kf.split(X_features):\n",
        "   X_train, X_test = X_features[train_index], X_features[test_index]\n",
        "   y_train=[]\n",
        "   y_test = []\n",
        "   for ind in train_index: y_train.append(y[ind])\n",
        "   for ind in test_index: y_test.append(y[ind])\n",
        "   model = LinearSVC(random_state=0, tol=1e-5) \n",
        "   model.fit(X_train, y_train)\n",
        "   y_pred = model.predict(X_test)\n",
        "   predictions = [round(value) for value in y_pred]\n",
        "   accuracy = accuracy_score(y_test, predictions)\n",
        "   value+=accuracy*100\n",
        "   print(\"Accuracy: %.2f%%\" % (accuracy * 100.0))\n",
        "filename = 'SVM.sav'\n",
        "pickle.dump(model, open(filename, 'wb'))\n",
        "print(value/6)"
      ],
      "execution_count": 570,
      "outputs": [
        {
          "output_type": "stream",
          "text": [
            "Accuracy: 3.53%\n",
            "Accuracy: 88.24%\n",
            "Accuracy: 57.65%\n",
            "Accuracy: 100.00%\n",
            "Accuracy: 97.65%\n",
            "Accuracy: 98.82%\n",
            "74.31372549019608\n"
          ],
          "name": "stdout"
        },
        {
          "output_type": "stream",
          "text": [
            "/usr/local/lib/python3.6/dist-packages/sklearn/utils/validation.py:724: DataConversionWarning: A column-vector y was passed when a 1d array was expected. Please change the shape of y to (n_samples, ), for example using ravel().\n",
            "  y = column_or_1d(y, warn=True)\n",
            "/usr/local/lib/python3.6/dist-packages/sklearn/svm/base.py:929: ConvergenceWarning: Liblinear failed to converge, increase the number of iterations.\n",
            "  \"the number of iterations.\", ConvergenceWarning)\n",
            "/usr/local/lib/python3.6/dist-packages/sklearn/utils/validation.py:724: DataConversionWarning: A column-vector y was passed when a 1d array was expected. Please change the shape of y to (n_samples, ), for example using ravel().\n",
            "  y = column_or_1d(y, warn=True)\n",
            "/usr/local/lib/python3.6/dist-packages/sklearn/svm/base.py:929: ConvergenceWarning: Liblinear failed to converge, increase the number of iterations.\n",
            "  \"the number of iterations.\", ConvergenceWarning)\n",
            "/usr/local/lib/python3.6/dist-packages/sklearn/utils/validation.py:724: DataConversionWarning: A column-vector y was passed when a 1d array was expected. Please change the shape of y to (n_samples, ), for example using ravel().\n",
            "  y = column_or_1d(y, warn=True)\n",
            "/usr/local/lib/python3.6/dist-packages/sklearn/svm/base.py:929: ConvergenceWarning: Liblinear failed to converge, increase the number of iterations.\n",
            "  \"the number of iterations.\", ConvergenceWarning)\n",
            "/usr/local/lib/python3.6/dist-packages/sklearn/utils/validation.py:724: DataConversionWarning: A column-vector y was passed when a 1d array was expected. Please change the shape of y to (n_samples, ), for example using ravel().\n",
            "  y = column_or_1d(y, warn=True)\n",
            "/usr/local/lib/python3.6/dist-packages/sklearn/svm/base.py:929: ConvergenceWarning: Liblinear failed to converge, increase the number of iterations.\n",
            "  \"the number of iterations.\", ConvergenceWarning)\n",
            "/usr/local/lib/python3.6/dist-packages/sklearn/utils/validation.py:724: DataConversionWarning: A column-vector y was passed when a 1d array was expected. Please change the shape of y to (n_samples, ), for example using ravel().\n",
            "  y = column_or_1d(y, warn=True)\n",
            "/usr/local/lib/python3.6/dist-packages/sklearn/svm/base.py:929: ConvergenceWarning: Liblinear failed to converge, increase the number of iterations.\n",
            "  \"the number of iterations.\", ConvergenceWarning)\n",
            "/usr/local/lib/python3.6/dist-packages/sklearn/utils/validation.py:724: DataConversionWarning: A column-vector y was passed when a 1d array was expected. Please change the shape of y to (n_samples, ), for example using ravel().\n",
            "  y = column_or_1d(y, warn=True)\n",
            "/usr/local/lib/python3.6/dist-packages/sklearn/svm/base.py:929: ConvergenceWarning: Liblinear failed to converge, increase the number of iterations.\n",
            "  \"the number of iterations.\", ConvergenceWarning)\n"
          ],
          "name": "stderr"
        }
      ]
    }
  ]
}